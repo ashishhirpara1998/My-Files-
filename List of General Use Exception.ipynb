{
 "cells": [
  {
   "cell_type": "code",
   "execution_count": 1,
   "id": "c23154b4-91de-4ae7-adcd-9ef8ad7820bb",
   "metadata": {},
   "outputs": [
    {
     "name": "stdout",
     "output_type": "stream",
     "text": [
      "division by zero\n"
     ]
    }
   ],
   "source": [
    "try:\n",
    "    a=10/0\n",
    "except ZeroDivisionError as e:\n",
    "    print(e)"
   ]
  },
  {
   "cell_type": "code",
   "execution_count": 2,
   "id": "74f9e610-9607-403a-8c90-6ce94af276f0",
   "metadata": {},
   "outputs": [
    {
     "name": "stdout",
     "output_type": "stream",
     "text": [
      "invalid literal for int() with base 10: 'ashish'\n"
     ]
    }
   ],
   "source": [
    "try:\n",
    "    int('ashish')\n",
    "except (ValueError ,TypeError) as e:\n",
    "    print(e)"
   ]
  },
  {
   "cell_type": "code",
   "execution_count": 3,
   "id": "56dfce12-503e-41f6-9d2c-6a8818e44f65",
   "metadata": {},
   "outputs": [
    {
     "name": "stdout",
     "output_type": "stream",
     "text": [
      "this will catch an error \n"
     ]
    }
   ],
   "source": [
    "try:\n",
    "    int('ashish')\n",
    "except :\n",
    "    print('this will catch an error ')"
   ]
  },
  {
   "cell_type": "code",
   "execution_count": 5,
   "id": "fa3e0c70-28f1-4064-b6e9-76a2768a113e",
   "metadata": {},
   "outputs": [
    {
     "name": "stdout",
     "output_type": "stream",
     "text": [
      "No module named 'ash'\n"
     ]
    },
    {
     "data": {
      "text/plain": [
       "2.5"
      ]
     },
     "execution_count": 5,
     "metadata": {},
     "output_type": "execute_result"
    }
   ],
   "source": [
    "try:\n",
    "    import ash\n",
    "except ImportError as e:\n",
    "    print(e)\n",
    "10/4\n"
   ]
  },
  {
   "cell_type": "code",
   "execution_count": 6,
   "id": "74e4a9c0-b519-486d-83b8-8d9d3972ad07",
   "metadata": {},
   "outputs": [
    {
     "name": "stdout",
     "output_type": "stream",
     "text": [
      "'key2'\n"
     ]
    }
   ],
   "source": [
    "try:\n",
    "    d={'key':'ash',1:[2,3]}\n",
    "    print(d['key2'])\n",
    "except KeyError as e:\n",
    "    print(e)"
   ]
  },
  {
   "cell_type": "code",
   "execution_count": 8,
   "id": "41c2567f-139d-43ab-9c4a-20978035daf0",
   "metadata": {},
   "outputs": [
    {
     "name": "stdout",
     "output_type": "stream",
     "text": [
      "'str' object has no attribute 'test'\n"
     ]
    }
   ],
   "source": [
    "try:\n",
    "    'ash'.test()\n",
    "except AttributeError as e:\n",
    "    print(e)"
   ]
  },
  {
   "cell_type": "code",
   "execution_count": 10,
   "id": "511c2c76-3917-437f-b137-3c9d8a4a2dea",
   "metadata": {},
   "outputs": [
    {
     "name": "stdout",
     "output_type": "stream",
     "text": [
      "list index out of range\n"
     ]
    }
   ],
   "source": [
    "try:\n",
    "    l=[2,3,4,5]\n",
    "    print(l[6])\n",
    "except IndexError as e:\n",
    "    print(e)\n",
    "    "
   ]
  },
  {
   "cell_type": "code",
   "execution_count": 11,
   "id": "1ad04e8d-3e24-41c7-a62b-86b9a6108651",
   "metadata": {},
   "outputs": [
    {
     "name": "stdout",
     "output_type": "stream",
     "text": [
      "unsupported operand type(s) for +: 'int' and 'str'\n"
     ]
    }
   ],
   "source": [
    "try:\n",
    "    123+'ashs'\n",
    "    \n",
    "except TypeError as e:\n",
    "    print(e)"
   ]
  },
  {
   "cell_type": "code",
   "execution_count": 12,
   "id": "038ebdb5-c6cc-4ad8-88c3-f15beaee2df1",
   "metadata": {},
   "outputs": [
    {
     "name": "stdout",
     "output_type": "stream",
     "text": [
      "[Errno 2] No such file or directory: 'test.txt'\n"
     ]
    }
   ],
   "source": [
    "try:\n",
    "    with open('test.txt','r') as f:\n",
    "        f.read()\n",
    "except FileNotFoundError as e:\n",
    "    print(e)"
   ]
  },
  {
   "cell_type": "code",
   "execution_count": 13,
   "id": "961e1666-89c7-4bb2-8fbd-fae2115d488e",
   "metadata": {},
   "outputs": [
    {
     "data": {
      "text/plain": [
       "['__cause__',\n",
       " '__class__',\n",
       " '__context__',\n",
       " '__delattr__',\n",
       " '__dict__',\n",
       " '__dir__',\n",
       " '__doc__',\n",
       " '__eq__',\n",
       " '__format__',\n",
       " '__ge__',\n",
       " '__getattribute__',\n",
       " '__gt__',\n",
       " '__hash__',\n",
       " '__init__',\n",
       " '__init_subclass__',\n",
       " '__le__',\n",
       " '__lt__',\n",
       " '__ne__',\n",
       " '__new__',\n",
       " '__reduce__',\n",
       " '__reduce_ex__',\n",
       " '__repr__',\n",
       " '__setattr__',\n",
       " '__setstate__',\n",
       " '__sizeof__',\n",
       " '__str__',\n",
       " '__subclasshook__',\n",
       " '__suppress_context__',\n",
       " '__traceback__',\n",
       " 'args',\n",
       " 'with_traceback']"
      ]
     },
     "execution_count": 13,
     "metadata": {},
     "output_type": "execute_result"
    }
   ],
   "source": [
    "dir(Exception)"
   ]
  },
  {
   "cell_type": "code",
   "execution_count": 16,
   "id": "437b2d2e-c400-4933-ac1d-fdb3d8d16b20",
   "metadata": {},
   "outputs": [
    {
     "name": "stdout",
     "output_type": "stream",
     "text": [
      "test [Errno 2] No such file or directory: 'test.txt'\n"
     ]
    }
   ],
   "source": [
    "try:\n",
    "    with open('test.txt','r') as f:\n",
    "        test=f.read()\n",
    "except Exception as e:\n",
    "    print(e)\n",
    "except FileNotFoundError as e:\n",
    "    print('test',e)"
   ]
  },
  {
   "cell_type": "code",
   "execution_count": 19,
   "id": "c7708c75-5f3c-465a-acd1-83dc9108f34d",
   "metadata": {},
   "outputs": [],
   "source": [
    "def test(file):\n",
    "    try:\n",
    "        with open(file,'r') as f:\n",
    "            test=f.read()\n",
    "    except Exception as e:\n",
    "        print(e)\n",
    "    except FileNotFoundError as e:\n",
    "        print('test',e)"
   ]
  },
  {
   "cell_type": "code",
   "execution_count": null,
   "id": "34bc2fa5-d25a-4f87-87ba-2e6a86cb7ef0",
   "metadata": {},
   "outputs": [],
   "source": []
  },
  {
   "cell_type": "code",
   "execution_count": 20,
   "id": "9d2a7a62-a4f4-407b-9f61-efe8673977cc",
   "metadata": {},
   "outputs": [],
   "source": [
    "#Best Practice Exception Handling"
   ]
  },
  {
   "cell_type": "code",
   "execution_count": null,
   "id": "1b287d01-09e1-4f8c-b4d3-851ba7d1d30a",
   "metadata": {},
   "outputs": [],
   "source": []
  },
  {
   "cell_type": "code",
   "execution_count": 21,
   "id": "2baec14e-4108-477b-b9e1-e0ae24d651a0",
   "metadata": {},
   "outputs": [],
   "source": [
    "#Use always a specific exception"
   ]
  },
  {
   "cell_type": "code",
   "execution_count": 22,
   "id": "32abcb11-be5c-4d6d-9b08-a8c681ec2418",
   "metadata": {},
   "outputs": [
    {
     "name": "stdout",
     "output_type": "stream",
     "text": [
      "division by zero\n"
     ]
    }
   ],
   "source": [
    "try:\n",
    "    10/0\n",
    "except Exception as e:\n",
    "    print(e)"
   ]
  },
  {
   "cell_type": "code",
   "execution_count": 23,
   "id": "334e73f7-b116-4fcf-9489-01a327e2e1d4",
   "metadata": {},
   "outputs": [
    {
     "name": "stdout",
     "output_type": "stream",
     "text": [
      "division by zero\n"
     ]
    }
   ],
   "source": [
    "try:\n",
    "    10/0\n",
    "except ZeroDivisionError as e:\n",
    "    print(e)"
   ]
  },
  {
   "cell_type": "code",
   "execution_count": 24,
   "id": "06846c2a-7fb9-4c92-8b0b-08cbea460246",
   "metadata": {},
   "outputs": [],
   "source": [
    "#print always a proper message"
   ]
  },
  {
   "cell_type": "code",
   "execution_count": 28,
   "id": "c78002a4-1fc6-4aee-a368-893e3f21ca0e",
   "metadata": {},
   "outputs": [
    {
     "name": "stdout",
     "output_type": "stream",
     "text": [
      "i am trying to hendal a ZeroDivision Error division by zero\n"
     ]
    }
   ],
   "source": [
    "try:\n",
    "    10/0\n",
    "except ZeroDivisionError as e:\n",
    "    print('i am trying to hendal a ZeroDivision Error'  ,e) "
   ]
  },
  {
   "cell_type": "code",
   "execution_count": 29,
   "id": "242dd177-26ac-44cd-987a-e4e012700f27",
   "metadata": {},
   "outputs": [],
   "source": [
    "#always try to log your error"
   ]
  },
  {
   "cell_type": "code",
   "execution_count": 35,
   "id": "73b769c1-12cc-4639-a617-2a894dddf150",
   "metadata": {},
   "outputs": [],
   "source": [
    "import logging\n",
    "logging.basicConfig(filename='error.log',level=logging.ERROR)\n",
    "try:\n",
    "    10/0\n",
    "except ZeroDivisionError as e:\n",
    "    logging.info ('i am trying to hendal a ZeroDivision Error {} '.format(e))"
   ]
  },
  {
   "cell_type": "code",
   "execution_count": 36,
   "id": "650deec2-2e67-42b7-8d20-b27a9874538c",
   "metadata": {},
   "outputs": [],
   "source": [
    "#always avoid to write a multipal exception handling"
   ]
  },
  {
   "cell_type": "code",
   "execution_count": 37,
   "id": "33523210-e83b-4fd3-bf72-a2eb51fcbcd2",
   "metadata": {},
   "outputs": [],
   "source": [
    "try:\n",
    "    10/0\n",
    "except FileNotFoundError as e:\n",
    "     logging.error ('i am handling file not found error {} '.format(e))\n",
    "except AttributeError as e:\n",
    "     logging.error ('i am handling Attribute error {} '.format(e))\n",
    "except ZeroDivisionError as e:\n",
    "    logging.info ('i am trying to hendal a ZeroDivision Error {} '.format(e))"
   ]
  },
  {
   "cell_type": "code",
   "execution_count": 38,
   "id": "4bc081fc-9182-4579-addc-d794dbef7be9",
   "metadata": {},
   "outputs": [],
   "source": [
    "#Document oll the error"
   ]
  },
  {
   "cell_type": "code",
   "execution_count": 39,
   "id": "d82bc44f-6d36-46b8-83f6-857a5e5f0128",
   "metadata": {},
   "outputs": [],
   "source": [
    "#cleanup all the resources"
   ]
  },
  {
   "cell_type": "code",
   "execution_count": 40,
   "id": "564895d2-6961-4820-9703-8ffeb766d6ae",
   "metadata": {},
   "outputs": [],
   "source": [
    "try:\n",
    "    with open('test.txt','w') as f:\n",
    "        f.write('this is my data to file')\n",
    "except FileNotFoundError as e:\n",
    "     logging.error ('i am handling file not found error {} '.format(e))\n",
    "finally :\n",
    "    f.close()"
   ]
  },
  {
   "cell_type": "code",
   "execution_count": null,
   "id": "456b302f-c4a4-4c97-8f35-f5075cc56936",
   "metadata": {},
   "outputs": [],
   "source": []
  }
 ],
 "metadata": {
  "kernelspec": {
   "display_name": "Python 3 (ipykernel)",
   "language": "python",
   "name": "python3"
  },
  "language_info": {
   "codemirror_mode": {
    "name": "ipython",
    "version": 3
   },
   "file_extension": ".py",
   "mimetype": "text/x-python",
   "name": "python",
   "nbconvert_exporter": "python",
   "pygments_lexer": "ipython3",
   "version": "3.10.8"
  }
 },
 "nbformat": 4,
 "nbformat_minor": 5
}
